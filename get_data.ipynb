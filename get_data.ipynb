{
 "cells": [
  {
   "cell_type": "code",
   "execution_count": null,
   "metadata": {},
   "outputs": [
    {
     "data": {
      "application/vnd.jupyter.widget-view+json": {
       "model_id": "ca2a06bb62b44b9882ee81677f7b27d8",
       "version_major": 2,
       "version_minor": 0
      },
      "text/plain": [
       "Retrieving SummaryDoc documents:   0%|          | 0/4696 [00:00<?, ?it/s]"
      ]
     },
     "metadata": {},
     "output_type": "display_data"
    },
    {
     "name": "stdout",
     "output_type": "stream",
     "text": [
      "Data for all perovskites has been saved to perovskites.json\n",
      "Database has been converted to a pandas DataFrame and saved to perovskites.csv\n"
     ]
    }
   ],
   "source": [
    "from mp_api.client import MPRester\n",
    "import json\n",
    "from emmet.core.summary import HasProps\n",
    "import pandas as pd\n",
    "# Gets all meterials of the form ABC3 from the Materials Project database\n",
    "with MPRester(\"NoQqkP6G1g6xkxgUb7aClJ69vQM2CZNA\") as mpr:\n",
    "    # Retrieve the summary data for the material\n",
    "    material_data = mpr.materials.summary.search(\n",
    "\n",
    "        formula=\"ABC3\",\n",
    "      #  fields=[\"material_id\", \"band_gap\", \"formula_pretty\"]\n",
    "    )\n",
    "    \n",
    "    # Save the data to a JSON file\n",
    "    all_data = [entry.dict() for entry in material_data]\n",
    "    with open(\"ABC3.json\", \"w\") as json_file:\n",
    "        json.dump(all_data, json_file, indent=4)\n",
    "\n",
    "print(\"Data for all perovskites has been saved to perovskites.json\")\n",
    "\n",
    "# Convert the JSON file into a pandas DataFrame\n",
    "# Load the JSON file\n",
    "with open(\"ABC3.json\", \"r\") as json_file:\n",
    "    data = json.load(json_file)\n",
    "\n",
    "df_ABC3 = pd.json_normalize(data)\n",
    "\n",
    "\n",
    "# Optionally, save the DataFrame to a CSV file\n",
    "df_ABC3.to_csv(\"ABC3.csv\", index=False)\n",
    "df_ABC3_experiemtally = df_ABC3[ (df_ABC3[\"theoretical\"] == False)]\n",
    "#drop duplicates\n",
    "\n",
    "print(\"Database has been converted to a pandas DataFrame and saved to perovskites.csv\")\n"
   ]
  },
  {
   "cell_type": "code",
   "execution_count": 75,
   "metadata": {},
   "outputs": [],
   "source": [
    "#Gets all the columns wiht the band gap and the lattice parameters\n",
    "# df_filtered = df[[\"material_id\", \"elements\", \"band_gap\", \"formula_pretty\",\"theoretical\",\"symmetry.crystal_system\",\"structure.lattice.matrix\",\"structure.lattice.a\",\"structure.lattice.b\",\"structure.lattice.c\",\"structure.lattice.alpha\",\t\"structure.lattice.beta\",\t\"structure.lattice.gamma\",\"symmetry.point_group\"]]\n",
    "df_ABC3_experiemtally = df_ABC3_experiemtally[(df_ABC3_experiemtally[\"theoretical\"] == False) \n",
    "                               & (df_ABC3_experiemtally[\"band_gap\"] > 0)\n",
    "                                  ]\n",
    "#filter for non-zero band gaps and experimental band_gap values\n",
    "df_ABC3_filtered = df_ABC3_experiemtally.drop_duplicates(subset=[\"formula_pretty\", \"symmetry.crystal_system\"])\n",
    "df_ABC3_filtered \n",
    "df_ABC3_filtered.to_csv(\"ABC3_filtered.csv\", index=False)\n",
    "# df_filtered_nonzero = df_filtered_nonzero.drop_duplicates()\n",
    "\n",
    "# Display the filtered DataFrame without duplicates\n",
    "# df_filtered_nonzero\n"
   ]
  },
  {
   "cell_type": "code",
   "execution_count": null,
   "metadata": {},
   "outputs": [
    {
     "data": {
      "application/vnd.jupyter.widget-view+json": {
       "model_id": "50866a37c7114ef68a37fd59d31e9381",
       "version_major": 2,
       "version_minor": 0
      },
      "text/plain": [
       "Retrieving SummaryDoc documents:   0%|          | 0/4843 [00:00<?, ?it/s]"
      ]
     },
     "metadata": {},
     "output_type": "display_data"
    },
    {
     "name": "stdout",
     "output_type": "stream",
     "text": [
      "Data for all perovskites has been saved to perovskites.json\n",
      "Database has been converted to a pandas DataFrame and saved to perovskites.csv\n"
     ]
    }
   ],
   "source": [
    "with MPRester(\"NoQqkP6G1g6xkxgUb7aClJ69vQM2CZNA\") as mpr:\n",
    "    # Retrieve the summary data for the material\n",
    "    material_data = mpr.materials.summary.search(\n",
    "\n",
    "        formula=\"A2BCX6\",\n",
    "      #  fields=[\"material_id\", \"band_gap\", \"formula_pretty\"]\n",
    "    )\n",
    "    \n",
    "    # Save the data to a JSON file\n",
    "    all_data = [entry.dict() for entry in material_data]\n",
    "    with open(\"A2BCX6.json\", \"w\") as json_file:\n",
    "        json.dump(all_data, json_file, indent=4)\n",
    "\n",
    "print(\"Data for all perovskites has been saved to perovskites.json\")\n",
    "\n",
    "# Convert the JSON file into a pandas DataFrame\n",
    "# Load the JSON file\n",
    "with open(\"A2BCX6.json\", \"r\") as json_file:\n",
    "    data = json.load(json_file)\n",
    "\n",
    "df_A2BCX6 = pd.json_normalize(data)\n",
    "\n",
    "\n",
    "# Optionally, save the DataFrame to a CSV file\n",
    "df_A2BCX6.to_csv(\"A2BCX6.csv\", index=False)\n",
    "df_A2BCX6 = df_A2BCX6[ (df_A2BCX6[\"theoretical\"] == False)]\n",
    "#drop duplicates\n",
    "\n",
    "print(\"Database has been converted to a pandas DataFrame and saved to perovskites.csv\")"
   ]
  },
  {
   "cell_type": "code",
   "execution_count": 76,
   "metadata": {},
   "outputs": [],
   "source": [
    "df_A2BCX6_experiemtally = df_A2BCX6[(df_A2BCX6[\"theoretical\"] == False) \n",
    "                              & (df_A2BCX6[\"band_gap\"] > 0)\n",
    "                                  ]\n",
    "#filter for non-zero band gaps and experimental band_gap values\n",
    "df_A2BCX6_filtered= df_A2BCX6_experiemtally.drop_duplicates(subset=[\"formula_pretty\", \"symmetry.crystal_system\"])\n",
    "df_A2BCX6_filtered\n",
    "df_A2BCX6_filtered.to_csv(\"A2BCX6_filtered.csv\", index=False)\n"
   ]
  },
  {
   "cell_type": "code",
   "execution_count": null,
   "metadata": {},
   "outputs": [],
   "source": []
  }
 ],
 "metadata": {
  "kernelspec": {
   "display_name": "base",
   "language": "python",
   "name": "python3"
  },
  "language_info": {
   "codemirror_mode": {
    "name": "ipython",
    "version": 3
   },
   "file_extension": ".py",
   "mimetype": "text/x-python",
   "name": "python",
   "nbconvert_exporter": "python",
   "pygments_lexer": "ipython3",
   "version": "3.12.3"
  }
 },
 "nbformat": 4,
 "nbformat_minor": 2
}
